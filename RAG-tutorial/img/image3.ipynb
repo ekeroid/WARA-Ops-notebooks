{
 "cells": [
  {
   "cell_type": "code",
   "execution_count": 22,
   "id": "43490524-9f09-47f1-82b5-4c65650d50cd",
   "metadata": {},
   "outputs": [
    {
     "data": {
      "image/png": "[encoded data removed]",
      "text/plain": [
       "<Figure size 640x480 with 1 Axes>"
      ]
     },
     "metadata": {},
     "output_type": "display_data"
    }
   ],
   "source": [
    "import matplotlib.pyplot as plt\n",
    "image = [\n",
    "    [\n",
    "        [0.25, 0, 1.0],\n",
    "        [0.5 , 0, 1.0],\n",
    "        [0.75, 0, 1.0],\n",
    "        [1.0 , 0, 1.0],\n",
    "    ],\n",
    "    [\n",
    "        [0.25, 0, 0.75],\n",
    "        [0.5 , 0, 0.75],\n",
    "        [0.75, 0, 0.75],\n",
    "        [1.0 , 0, 0.75],\n",
    "    ],\n",
    "    [\n",
    "        [0.25, 0, 0.5],\n",
    "        [0.5 , 0, 0.5],\n",
    "        [0.75, 0, 0.5],\n",
    "        [1.0 , 0, 0.5],\n",
    "    ],\n",
    "    [\n",
    "        [0.25, 0, 0.25],\n",
    "        [0.5 , 0, 0.25],\n",
    "        [0.75, 0, 0.25],\n",
    "        [1.0 , 0, 0.25],\n",
    "    ],\n",
    "]\n",
    "\n",
    "ax=plt.imshow(image, extent=(0,1,0,1))\n",
    "plt.savefig('image3.png', bbox_inches='tight')\n",
    "\n",
    "image = [\n",
    "    [\n",
    "        [0.3, 0, 0.6],\n",
    "    ]\n",
    "]\n",
    "plt.axis('off')\n",
    "ax=plt.imshow(image, extent=(0,1,0,1))\n",
    "plt.savefig('query.png', bbox_inches='tight')\n",
    "\n",
    "image = [\n",
    "    [\n",
    "        [0.25, 0, 0.5],\n",
    "    ]\n",
    "]\n",
    "plt.axis('off')\n",
    "ax=plt.imshow(image, extent=(0,1,0,1))\n",
    "plt.savefig('answer.png', bbox_inches='tight')\n"
   ]
  },
  {
   "cell_type": "code",
   "execution_count": null,
   "id": "e0e7cba0-a77a-4f18-82ed-34cc0ec5b834",
   "metadata": {},
   "outputs": [],
   "source": []
  }
 ],
 "metadata": {
  "kernelspec": {
   "display_name": "Python 3 (ipykernel)",
   "language": "python",
   "name": "python3"
  },
  "language_info": {
   "codemirror_mode": {
    "name": "ipython",
    "version": 3
   },
   "file_extension": ".py",
   "mimetype": "text/x-python",
   "name": "python",
   "nbconvert_exporter": "python",
   "pygments_lexer": "ipython3",
   "version": "3.11.7"
  }
 },
 "nbformat": 4,
 "nbformat_minor": 5
}
